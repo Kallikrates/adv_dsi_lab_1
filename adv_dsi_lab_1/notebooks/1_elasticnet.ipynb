{
 "cells": [
  {
   "cell_type": "markdown",
   "id": "organizational-garden",
   "metadata": {},
   "source": [
    "# 3. Load and Explore Dataset"
   ]
  },
  {
   "cell_type": "code",
   "execution_count": 42,
   "id": "british-switch",
   "metadata": {},
   "outputs": [],
   "source": [
    "import pandas as pd\n",
    "import numpy as np"
   ]
  },
  {
   "cell_type": "code",
   "execution_count": 43,
   "id": "numerical-jacob",
   "metadata": {},
   "outputs": [],
   "source": [
    "df = pd.read_csv('../data/raw/OnlineNewsPopularity.csv')"
   ]
  },
  {
   "cell_type": "code",
   "execution_count": 44,
   "id": "governing-click",
   "metadata": {},
   "outputs": [
    {
     "data": {
      "text/html": [
       "<div>\n",
       "<style scoped>\n",
       "    .dataframe tbody tr th:only-of-type {\n",
       "        vertical-align: middle;\n",
       "    }\n",
       "\n",
       "    .dataframe tbody tr th {\n",
       "        vertical-align: top;\n",
       "    }\n",
       "\n",
       "    .dataframe thead th {\n",
       "        text-align: right;\n",
       "    }\n",
       "</style>\n",
       "<table border=\"1\" class=\"dataframe\">\n",
       "  <thead>\n",
       "    <tr style=\"text-align: right;\">\n",
       "      <th></th>\n",
       "      <th>url</th>\n",
       "      <th>timedelta</th>\n",
       "      <th>n_tokens_title</th>\n",
       "      <th>n_tokens_content</th>\n",
       "      <th>n_unique_tokens</th>\n",
       "      <th>n_non_stop_words</th>\n",
       "      <th>n_non_stop_unique_tokens</th>\n",
       "      <th>num_hrefs</th>\n",
       "      <th>num_self_hrefs</th>\n",
       "      <th>num_imgs</th>\n",
       "      <th>...</th>\n",
       "      <th>min_positive_polarity</th>\n",
       "      <th>max_positive_polarity</th>\n",
       "      <th>avg_negative_polarity</th>\n",
       "      <th>min_negative_polarity</th>\n",
       "      <th>max_negative_polarity</th>\n",
       "      <th>title_subjectivity</th>\n",
       "      <th>title_sentiment_polarity</th>\n",
       "      <th>abs_title_subjectivity</th>\n",
       "      <th>abs_title_sentiment_polarity</th>\n",
       "      <th>shares</th>\n",
       "    </tr>\n",
       "  </thead>\n",
       "  <tbody>\n",
       "    <tr>\n",
       "      <th>0</th>\n",
       "      <td>http://mashable.com/2013/01/07/amazon-instant-...</td>\n",
       "      <td>731.0</td>\n",
       "      <td>12.0</td>\n",
       "      <td>219.0</td>\n",
       "      <td>0.663594</td>\n",
       "      <td>1.0</td>\n",
       "      <td>0.815385</td>\n",
       "      <td>4.0</td>\n",
       "      <td>2.0</td>\n",
       "      <td>1.0</td>\n",
       "      <td>...</td>\n",
       "      <td>0.100000</td>\n",
       "      <td>0.7</td>\n",
       "      <td>-0.350000</td>\n",
       "      <td>-0.600</td>\n",
       "      <td>-0.200000</td>\n",
       "      <td>0.500000</td>\n",
       "      <td>-0.187500</td>\n",
       "      <td>0.000000</td>\n",
       "      <td>0.187500</td>\n",
       "      <td>593.0</td>\n",
       "    </tr>\n",
       "    <tr>\n",
       "      <th>1</th>\n",
       "      <td>http://mashable.com/2013/01/07/ap-samsung-spon...</td>\n",
       "      <td>731.0</td>\n",
       "      <td>9.0</td>\n",
       "      <td>255.0</td>\n",
       "      <td>0.604743</td>\n",
       "      <td>1.0</td>\n",
       "      <td>0.791946</td>\n",
       "      <td>3.0</td>\n",
       "      <td>1.0</td>\n",
       "      <td>1.0</td>\n",
       "      <td>...</td>\n",
       "      <td>0.033333</td>\n",
       "      <td>0.7</td>\n",
       "      <td>-0.118750</td>\n",
       "      <td>-0.125</td>\n",
       "      <td>-0.100000</td>\n",
       "      <td>0.000000</td>\n",
       "      <td>0.000000</td>\n",
       "      <td>0.500000</td>\n",
       "      <td>0.000000</td>\n",
       "      <td>711.0</td>\n",
       "    </tr>\n",
       "    <tr>\n",
       "      <th>2</th>\n",
       "      <td>http://mashable.com/2013/01/07/apple-40-billio...</td>\n",
       "      <td>731.0</td>\n",
       "      <td>9.0</td>\n",
       "      <td>211.0</td>\n",
       "      <td>0.575130</td>\n",
       "      <td>1.0</td>\n",
       "      <td>0.663866</td>\n",
       "      <td>3.0</td>\n",
       "      <td>1.0</td>\n",
       "      <td>1.0</td>\n",
       "      <td>...</td>\n",
       "      <td>0.100000</td>\n",
       "      <td>1.0</td>\n",
       "      <td>-0.466667</td>\n",
       "      <td>-0.800</td>\n",
       "      <td>-0.133333</td>\n",
       "      <td>0.000000</td>\n",
       "      <td>0.000000</td>\n",
       "      <td>0.500000</td>\n",
       "      <td>0.000000</td>\n",
       "      <td>1500.0</td>\n",
       "    </tr>\n",
       "    <tr>\n",
       "      <th>3</th>\n",
       "      <td>http://mashable.com/2013/01/07/astronaut-notre...</td>\n",
       "      <td>731.0</td>\n",
       "      <td>9.0</td>\n",
       "      <td>531.0</td>\n",
       "      <td>0.503788</td>\n",
       "      <td>1.0</td>\n",
       "      <td>0.665635</td>\n",
       "      <td>9.0</td>\n",
       "      <td>0.0</td>\n",
       "      <td>1.0</td>\n",
       "      <td>...</td>\n",
       "      <td>0.136364</td>\n",
       "      <td>0.8</td>\n",
       "      <td>-0.369697</td>\n",
       "      <td>-0.600</td>\n",
       "      <td>-0.166667</td>\n",
       "      <td>0.000000</td>\n",
       "      <td>0.000000</td>\n",
       "      <td>0.500000</td>\n",
       "      <td>0.000000</td>\n",
       "      <td>1200.0</td>\n",
       "    </tr>\n",
       "    <tr>\n",
       "      <th>4</th>\n",
       "      <td>http://mashable.com/2013/01/07/att-u-verse-apps/</td>\n",
       "      <td>731.0</td>\n",
       "      <td>13.0</td>\n",
       "      <td>1072.0</td>\n",
       "      <td>0.415646</td>\n",
       "      <td>1.0</td>\n",
       "      <td>0.540890</td>\n",
       "      <td>19.0</td>\n",
       "      <td>19.0</td>\n",
       "      <td>20.0</td>\n",
       "      <td>...</td>\n",
       "      <td>0.033333</td>\n",
       "      <td>1.0</td>\n",
       "      <td>-0.220192</td>\n",
       "      <td>-0.500</td>\n",
       "      <td>-0.050000</td>\n",
       "      <td>0.454545</td>\n",
       "      <td>0.136364</td>\n",
       "      <td>0.045455</td>\n",
       "      <td>0.136364</td>\n",
       "      <td>505.0</td>\n",
       "    </tr>\n",
       "  </tbody>\n",
       "</table>\n",
       "<p>5 rows × 61 columns</p>\n",
       "</div>"
      ],
      "text/plain": [
       "                                                 url   timedelta  \\\n",
       "0  http://mashable.com/2013/01/07/amazon-instant-...       731.0   \n",
       "1  http://mashable.com/2013/01/07/ap-samsung-spon...       731.0   \n",
       "2  http://mashable.com/2013/01/07/apple-40-billio...       731.0   \n",
       "3  http://mashable.com/2013/01/07/astronaut-notre...       731.0   \n",
       "4   http://mashable.com/2013/01/07/att-u-verse-apps/       731.0   \n",
       "\n",
       "    n_tokens_title   n_tokens_content   n_unique_tokens   n_non_stop_words  \\\n",
       "0             12.0              219.0          0.663594                1.0   \n",
       "1              9.0              255.0          0.604743                1.0   \n",
       "2              9.0              211.0          0.575130                1.0   \n",
       "3              9.0              531.0          0.503788                1.0   \n",
       "4             13.0             1072.0          0.415646                1.0   \n",
       "\n",
       "    n_non_stop_unique_tokens   num_hrefs   num_self_hrefs   num_imgs  ...  \\\n",
       "0                   0.815385         4.0              2.0        1.0  ...   \n",
       "1                   0.791946         3.0              1.0        1.0  ...   \n",
       "2                   0.663866         3.0              1.0        1.0  ...   \n",
       "3                   0.665635         9.0              0.0        1.0  ...   \n",
       "4                   0.540890        19.0             19.0       20.0  ...   \n",
       "\n",
       "    min_positive_polarity   max_positive_polarity   avg_negative_polarity  \\\n",
       "0                0.100000                     0.7               -0.350000   \n",
       "1                0.033333                     0.7               -0.118750   \n",
       "2                0.100000                     1.0               -0.466667   \n",
       "3                0.136364                     0.8               -0.369697   \n",
       "4                0.033333                     1.0               -0.220192   \n",
       "\n",
       "    min_negative_polarity   max_negative_polarity   title_subjectivity  \\\n",
       "0                  -0.600               -0.200000             0.500000   \n",
       "1                  -0.125               -0.100000             0.000000   \n",
       "2                  -0.800               -0.133333             0.000000   \n",
       "3                  -0.600               -0.166667             0.000000   \n",
       "4                  -0.500               -0.050000             0.454545   \n",
       "\n",
       "    title_sentiment_polarity   abs_title_subjectivity  \\\n",
       "0                  -0.187500                 0.000000   \n",
       "1                   0.000000                 0.500000   \n",
       "2                   0.000000                 0.500000   \n",
       "3                   0.000000                 0.500000   \n",
       "4                   0.136364                 0.045455   \n",
       "\n",
       "    abs_title_sentiment_polarity   shares  \n",
       "0                       0.187500    593.0  \n",
       "1                       0.000000    711.0  \n",
       "2                       0.000000   1500.0  \n",
       "3                       0.000000   1200.0  \n",
       "4                       0.136364    505.0  \n",
       "\n",
       "[5 rows x 61 columns]"
      ]
     },
     "execution_count": 44,
     "metadata": {},
     "output_type": "execute_result"
    }
   ],
   "source": [
    "df.head()"
   ]
  },
  {
   "cell_type": "code",
   "execution_count": 81,
   "id": "amino-boring",
   "metadata": {},
   "outputs": [
    {
     "data": {
      "text/html": [
       "<div>\n",
       "<style scoped>\n",
       "    .dataframe tbody tr th:only-of-type {\n",
       "        vertical-align: middle;\n",
       "    }\n",
       "\n",
       "    .dataframe tbody tr th {\n",
       "        vertical-align: top;\n",
       "    }\n",
       "\n",
       "    .dataframe thead th {\n",
       "        text-align: right;\n",
       "    }\n",
       "</style>\n",
       "<table border=\"1\" class=\"dataframe\">\n",
       "  <thead>\n",
       "    <tr style=\"text-align: right;\">\n",
       "      <th></th>\n",
       "      <th>url</th>\n",
       "      <th>timedelta</th>\n",
       "      <th>n_tokens_title</th>\n",
       "      <th>n_tokens_content</th>\n",
       "      <th>n_unique_tokens</th>\n",
       "      <th>n_non_stop_words</th>\n",
       "      <th>n_non_stop_unique_tokens</th>\n",
       "      <th>num_hrefs</th>\n",
       "      <th>num_self_hrefs</th>\n",
       "      <th>num_imgs</th>\n",
       "      <th>...</th>\n",
       "      <th>min_positive_polarity</th>\n",
       "      <th>max_positive_polarity</th>\n",
       "      <th>avg_negative_polarity</th>\n",
       "      <th>min_negative_polarity</th>\n",
       "      <th>max_negative_polarity</th>\n",
       "      <th>title_subjectivity</th>\n",
       "      <th>title_sentiment_polarity</th>\n",
       "      <th>abs_title_subjectivity</th>\n",
       "      <th>abs_title_sentiment_polarity</th>\n",
       "      <th>shares</th>\n",
       "    </tr>\n",
       "  </thead>\n",
       "  <tbody>\n",
       "    <tr>\n",
       "      <th>3286</th>\n",
       "      <td>http://mashable.com/2013/03/05/snowballs/</td>\n",
       "      <td>674.0</td>\n",
       "      <td>9.0</td>\n",
       "      <td>328.0</td>\n",
       "      <td>0.669753</td>\n",
       "      <td>1.0</td>\n",
       "      <td>0.841584</td>\n",
       "      <td>5.0</td>\n",
       "      <td>1.0</td>\n",
       "      <td>1.0</td>\n",
       "      <td>...</td>\n",
       "      <td>0.062500</td>\n",
       "      <td>0.5</td>\n",
       "      <td>-0.238889</td>\n",
       "      <td>-0.5000</td>\n",
       "      <td>-0.100</td>\n",
       "      <td>0.000000</td>\n",
       "      <td>0.000000</td>\n",
       "      <td>0.500000</td>\n",
       "      <td>0.000000</td>\n",
       "      <td>1700.0</td>\n",
       "    </tr>\n",
       "    <tr>\n",
       "      <th>3287</th>\n",
       "      <td>http://mashable.com/2013/03/05/social-tv-nba/</td>\n",
       "      <td>674.0</td>\n",
       "      <td>10.0</td>\n",
       "      <td>175.0</td>\n",
       "      <td>0.688623</td>\n",
       "      <td>1.0</td>\n",
       "      <td>0.783019</td>\n",
       "      <td>5.0</td>\n",
       "      <td>4.0</td>\n",
       "      <td>1.0</td>\n",
       "      <td>...</td>\n",
       "      <td>0.033333</td>\n",
       "      <td>0.6</td>\n",
       "      <td>-0.308333</td>\n",
       "      <td>-0.4000</td>\n",
       "      <td>-0.125</td>\n",
       "      <td>0.283333</td>\n",
       "      <td>0.266667</td>\n",
       "      <td>0.216667</td>\n",
       "      <td>0.266667</td>\n",
       "      <td>947.0</td>\n",
       "    </tr>\n",
       "    <tr>\n",
       "      <th>3288</th>\n",
       "      <td>http://mashable.com/2013/03/05/spike-tv-mma-app/</td>\n",
       "      <td>674.0</td>\n",
       "      <td>10.0</td>\n",
       "      <td>311.0</td>\n",
       "      <td>0.605178</td>\n",
       "      <td>1.0</td>\n",
       "      <td>0.733668</td>\n",
       "      <td>8.0</td>\n",
       "      <td>4.0</td>\n",
       "      <td>1.0</td>\n",
       "      <td>...</td>\n",
       "      <td>0.033333</td>\n",
       "      <td>0.6</td>\n",
       "      <td>-0.225000</td>\n",
       "      <td>-0.4000</td>\n",
       "      <td>-0.050</td>\n",
       "      <td>0.000000</td>\n",
       "      <td>0.000000</td>\n",
       "      <td>0.500000</td>\n",
       "      <td>0.000000</td>\n",
       "      <td>1300.0</td>\n",
       "    </tr>\n",
       "    <tr>\n",
       "      <th>3289</th>\n",
       "      <td>http://mashable.com/2013/03/05/spotify-backpla...</td>\n",
       "      <td>674.0</td>\n",
       "      <td>10.0</td>\n",
       "      <td>255.0</td>\n",
       "      <td>0.653386</td>\n",
       "      <td>1.0</td>\n",
       "      <td>0.777778</td>\n",
       "      <td>11.0</td>\n",
       "      <td>4.0</td>\n",
       "      <td>1.0</td>\n",
       "      <td>...</td>\n",
       "      <td>0.136364</td>\n",
       "      <td>0.5</td>\n",
       "      <td>0.000000</td>\n",
       "      <td>0.0000</td>\n",
       "      <td>0.000</td>\n",
       "      <td>0.000000</td>\n",
       "      <td>0.000000</td>\n",
       "      <td>0.500000</td>\n",
       "      <td>0.000000</td>\n",
       "      <td>506.0</td>\n",
       "    </tr>\n",
       "    <tr>\n",
       "      <th>3290</th>\n",
       "      <td>http://mashable.com/2013/03/05/startup-tampons/</td>\n",
       "      <td>674.0</td>\n",
       "      <td>9.0</td>\n",
       "      <td>489.0</td>\n",
       "      <td>0.545267</td>\n",
       "      <td>1.0</td>\n",
       "      <td>0.705479</td>\n",
       "      <td>7.0</td>\n",
       "      <td>1.0</td>\n",
       "      <td>1.0</td>\n",
       "      <td>...</td>\n",
       "      <td>0.100000</td>\n",
       "      <td>0.7</td>\n",
       "      <td>-0.151042</td>\n",
       "      <td>-0.1875</td>\n",
       "      <td>-0.125</td>\n",
       "      <td>0.000000</td>\n",
       "      <td>0.000000</td>\n",
       "      <td>0.500000</td>\n",
       "      <td>0.000000</td>\n",
       "      <td>2800.0</td>\n",
       "    </tr>\n",
       "  </tbody>\n",
       "</table>\n",
       "<p>5 rows × 61 columns</p>\n",
       "</div>"
      ],
      "text/plain": [
       "                                                    url   timedelta  \\\n",
       "3286          http://mashable.com/2013/03/05/snowballs/       674.0   \n",
       "3287      http://mashable.com/2013/03/05/social-tv-nba/       674.0   \n",
       "3288   http://mashable.com/2013/03/05/spike-tv-mma-app/       674.0   \n",
       "3289  http://mashable.com/2013/03/05/spotify-backpla...       674.0   \n",
       "3290    http://mashable.com/2013/03/05/startup-tampons/       674.0   \n",
       "\n",
       "       n_tokens_title   n_tokens_content   n_unique_tokens   n_non_stop_words  \\\n",
       "3286              9.0              328.0          0.669753                1.0   \n",
       "3287             10.0              175.0          0.688623                1.0   \n",
       "3288             10.0              311.0          0.605178                1.0   \n",
       "3289             10.0              255.0          0.653386                1.0   \n",
       "3290              9.0              489.0          0.545267                1.0   \n",
       "\n",
       "       n_non_stop_unique_tokens   num_hrefs   num_self_hrefs   num_imgs  ...  \\\n",
       "3286                   0.841584         5.0              1.0        1.0  ...   \n",
       "3287                   0.783019         5.0              4.0        1.0  ...   \n",
       "3288                   0.733668         8.0              4.0        1.0  ...   \n",
       "3289                   0.777778        11.0              4.0        1.0  ...   \n",
       "3290                   0.705479         7.0              1.0        1.0  ...   \n",
       "\n",
       "       min_positive_polarity   max_positive_polarity   avg_negative_polarity  \\\n",
       "3286                0.062500                     0.5               -0.238889   \n",
       "3287                0.033333                     0.6               -0.308333   \n",
       "3288                0.033333                     0.6               -0.225000   \n",
       "3289                0.136364                     0.5                0.000000   \n",
       "3290                0.100000                     0.7               -0.151042   \n",
       "\n",
       "       min_negative_polarity   max_negative_polarity   title_subjectivity  \\\n",
       "3286                 -0.5000                  -0.100             0.000000   \n",
       "3287                 -0.4000                  -0.125             0.283333   \n",
       "3288                 -0.4000                  -0.050             0.000000   \n",
       "3289                  0.0000                   0.000             0.000000   \n",
       "3290                 -0.1875                  -0.125             0.000000   \n",
       "\n",
       "       title_sentiment_polarity   abs_title_subjectivity  \\\n",
       "3286                   0.000000                 0.500000   \n",
       "3287                   0.266667                 0.216667   \n",
       "3288                   0.000000                 0.500000   \n",
       "3289                   0.000000                 0.500000   \n",
       "3290                   0.000000                 0.500000   \n",
       "\n",
       "       abs_title_sentiment_polarity   shares  \n",
       "3286                       0.000000   1700.0  \n",
       "3287                       0.266667    947.0  \n",
       "3288                       0.000000   1300.0  \n",
       "3289                       0.000000    506.0  \n",
       "3290                       0.000000   2800.0  \n",
       "\n",
       "[5 rows x 61 columns]"
      ]
     },
     "execution_count": 81,
     "metadata": {},
     "output_type": "execute_result"
    }
   ],
   "source": [
    "df.tail()"
   ]
  },
  {
   "cell_type": "code",
   "execution_count": 80,
   "id": "third-librarian",
   "metadata": {},
   "outputs": [],
   "source": [
    "df.drop(df.tail(1).index,inplace=True)"
   ]
  },
  {
   "cell_type": "code",
   "execution_count": 82,
   "id": "standard-printing",
   "metadata": {},
   "outputs": [
    {
     "data": {
      "text/plain": [
       "(3291, 61)"
      ]
     },
     "execution_count": 82,
     "metadata": {},
     "output_type": "execute_result"
    }
   ],
   "source": [
    "df.shape"
   ]
  },
  {
   "cell_type": "code",
   "execution_count": 83,
   "id": "supported-boston",
   "metadata": {},
   "outputs": [
    {
     "name": "stdout",
     "output_type": "stream",
     "text": [
      "<class 'pandas.core.frame.DataFrame'>\n",
      "Int64Index: 3291 entries, 0 to 3290\n",
      "Data columns (total 61 columns):\n",
      " #   Column                          Non-Null Count  Dtype  \n",
      "---  ------                          --------------  -----  \n",
      " 0   url                             3291 non-null   object \n",
      " 1    timedelta                      3291 non-null   float64\n",
      " 2    n_tokens_title                 3291 non-null   float64\n",
      " 3    n_tokens_content               3291 non-null   float64\n",
      " 4    n_unique_tokens                3291 non-null   float64\n",
      " 5    n_non_stop_words               3291 non-null   float64\n",
      " 6    n_non_stop_unique_tokens       3291 non-null   float64\n",
      " 7    num_hrefs                      3291 non-null   float64\n",
      " 8    num_self_hrefs                 3291 non-null   float64\n",
      " 9    num_imgs                       3291 non-null   float64\n",
      " 10   num_videos                     3291 non-null   float64\n",
      " 11   average_token_length           3291 non-null   float64\n",
      " 12   num_keywords                   3291 non-null   float64\n",
      " 13   data_channel_is_lifestyle      3291 non-null   float64\n",
      " 14   data_channel_is_entertainment  3291 non-null   float64\n",
      " 15   data_channel_is_bus            3291 non-null   float64\n",
      " 16   data_channel_is_socmed         3291 non-null   float64\n",
      " 17   data_channel_is_tech           3291 non-null   float64\n",
      " 18   data_channel_is_world          3291 non-null   float64\n",
      " 19   kw_min_min                     3291 non-null   float64\n",
      " 20   kw_max_min                     3291 non-null   float64\n",
      " 21   kw_avg_min                     3291 non-null   float64\n",
      " 22   kw_min_max                     3291 non-null   float64\n",
      " 23   kw_max_max                     3291 non-null   float64\n",
      " 24   kw_avg_max                     3291 non-null   float64\n",
      " 25   kw_min_avg                     3291 non-null   float64\n",
      " 26   kw_max_avg                     3291 non-null   float64\n",
      " 27   kw_avg_avg                     3291 non-null   float64\n",
      " 28   self_reference_min_shares      3291 non-null   float64\n",
      " 29   self_reference_max_shares      3291 non-null   float64\n",
      " 30   self_reference_avg_sharess     3291 non-null   float64\n",
      " 31   weekday_is_monday              3291 non-null   float64\n",
      " 32   weekday_is_tuesday             3291 non-null   float64\n",
      " 33   weekday_is_wednesday           3291 non-null   float64\n",
      " 34   weekday_is_thursday            3291 non-null   float64\n",
      " 35   weekday_is_friday              3291 non-null   float64\n",
      " 36   weekday_is_saturday            3291 non-null   float64\n",
      " 37   weekday_is_sunday              3291 non-null   float64\n",
      " 38   is_weekend                     3291 non-null   float64\n",
      " 39   LDA_00                         3291 non-null   float64\n",
      " 40   LDA_01                         3291 non-null   float64\n",
      " 41   LDA_02                         3291 non-null   float64\n",
      " 42   LDA_03                         3291 non-null   float64\n",
      " 43   LDA_04                         3291 non-null   float64\n",
      " 44   global_subjectivity            3291 non-null   float64\n",
      " 45   global_sentiment_polarity      3291 non-null   float64\n",
      " 46   global_rate_positive_words     3291 non-null   float64\n",
      " 47   global_rate_negative_words     3291 non-null   float64\n",
      " 48   rate_positive_words            3291 non-null   float64\n",
      " 49   rate_negative_words            3291 non-null   float64\n",
      " 50   avg_positive_polarity          3291 non-null   float64\n",
      " 51   min_positive_polarity          3291 non-null   float64\n",
      " 52   max_positive_polarity          3291 non-null   float64\n",
      " 53   avg_negative_polarity          3291 non-null   float64\n",
      " 54   min_negative_polarity          3291 non-null   float64\n",
      " 55   max_negative_polarity          3291 non-null   float64\n",
      " 56   title_subjectivity             3291 non-null   float64\n",
      " 57   title_sentiment_polarity       3291 non-null   float64\n",
      " 58   abs_title_subjectivity         3291 non-null   float64\n",
      " 59   abs_title_sentiment_polarity   3291 non-null   float64\n",
      " 60   shares                         3291 non-null   float64\n",
      "dtypes: float64(60), object(1)\n",
      "memory usage: 1.6+ MB\n"
     ]
    }
   ],
   "source": [
    "df.info()"
   ]
  },
  {
   "cell_type": "code",
   "execution_count": 84,
   "id": "upset-headline",
   "metadata": {},
   "outputs": [
    {
     "data": {
      "text/html": [
       "<div>\n",
       "<style scoped>\n",
       "    .dataframe tbody tr th:only-of-type {\n",
       "        vertical-align: middle;\n",
       "    }\n",
       "\n",
       "    .dataframe tbody tr th {\n",
       "        vertical-align: top;\n",
       "    }\n",
       "\n",
       "    .dataframe thead th {\n",
       "        text-align: right;\n",
       "    }\n",
       "</style>\n",
       "<table border=\"1\" class=\"dataframe\">\n",
       "  <thead>\n",
       "    <tr style=\"text-align: right;\">\n",
       "      <th></th>\n",
       "      <th>timedelta</th>\n",
       "      <th>n_tokens_title</th>\n",
       "      <th>n_tokens_content</th>\n",
       "      <th>n_unique_tokens</th>\n",
       "      <th>n_non_stop_words</th>\n",
       "      <th>n_non_stop_unique_tokens</th>\n",
       "      <th>num_hrefs</th>\n",
       "      <th>num_self_hrefs</th>\n",
       "      <th>num_imgs</th>\n",
       "      <th>num_videos</th>\n",
       "      <th>...</th>\n",
       "      <th>min_positive_polarity</th>\n",
       "      <th>max_positive_polarity</th>\n",
       "      <th>avg_negative_polarity</th>\n",
       "      <th>min_negative_polarity</th>\n",
       "      <th>max_negative_polarity</th>\n",
       "      <th>title_subjectivity</th>\n",
       "      <th>title_sentiment_polarity</th>\n",
       "      <th>abs_title_subjectivity</th>\n",
       "      <th>abs_title_sentiment_polarity</th>\n",
       "      <th>shares</th>\n",
       "    </tr>\n",
       "  </thead>\n",
       "  <tbody>\n",
       "    <tr>\n",
       "      <th>count</th>\n",
       "      <td>3291.000000</td>\n",
       "      <td>3291.000000</td>\n",
       "      <td>3291.000000</td>\n",
       "      <td>3291.000000</td>\n",
       "      <td>3291.000000</td>\n",
       "      <td>3291.000000</td>\n",
       "      <td>3291.000000</td>\n",
       "      <td>3291.000000</td>\n",
       "      <td>3291.000000</td>\n",
       "      <td>3291.000000</td>\n",
       "      <td>...</td>\n",
       "      <td>3291.000000</td>\n",
       "      <td>3291.000000</td>\n",
       "      <td>3291.000000</td>\n",
       "      <td>3291.000000</td>\n",
       "      <td>3291.000000</td>\n",
       "      <td>3291.000000</td>\n",
       "      <td>3291.000000</td>\n",
       "      <td>3291.000000</td>\n",
       "      <td>3291.000000</td>\n",
       "      <td>3291.000000</td>\n",
       "    </tr>\n",
       "    <tr>\n",
       "      <th>mean</th>\n",
       "      <td>702.988757</td>\n",
       "      <td>9.813431</td>\n",
       "      <td>480.353692</td>\n",
       "      <td>0.563097</td>\n",
       "      <td>0.991492</td>\n",
       "      <td>0.706685</td>\n",
       "      <td>9.209663</td>\n",
       "      <td>3.205105</td>\n",
       "      <td>3.505014</td>\n",
       "      <td>1.392890</td>\n",
       "      <td>...</td>\n",
       "      <td>0.100833</td>\n",
       "      <td>0.771471</td>\n",
       "      <td>-0.253439</td>\n",
       "      <td>-0.482573</td>\n",
       "      <td>-0.114335</td>\n",
       "      <td>0.283469</td>\n",
       "      <td>0.097286</td>\n",
       "      <td>0.344996</td>\n",
       "      <td>0.164799</td>\n",
       "      <td>3148.386813</td>\n",
       "    </tr>\n",
       "    <tr>\n",
       "      <th>std</th>\n",
       "      <td>16.450909</td>\n",
       "      <td>1.933974</td>\n",
       "      <td>410.708072</td>\n",
       "      <td>0.119128</td>\n",
       "      <td>0.091860</td>\n",
       "      <td>0.121041</td>\n",
       "      <td>8.911407</td>\n",
       "      <td>4.781313</td>\n",
       "      <td>6.457216</td>\n",
       "      <td>5.543171</td>\n",
       "      <td>...</td>\n",
       "      <td>0.075345</td>\n",
       "      <td>0.229290</td>\n",
       "      <td>0.128501</td>\n",
       "      <td>0.276866</td>\n",
       "      <td>0.102396</td>\n",
       "      <td>0.327222</td>\n",
       "      <td>0.273242</td>\n",
       "      <td>0.186858</td>\n",
       "      <td>0.238667</td>\n",
       "      <td>12661.913485</td>\n",
       "    </tr>\n",
       "    <tr>\n",
       "      <th>min</th>\n",
       "      <td>674.000000</td>\n",
       "      <td>4.000000</td>\n",
       "      <td>0.000000</td>\n",
       "      <td>0.000000</td>\n",
       "      <td>0.000000</td>\n",
       "      <td>0.000000</td>\n",
       "      <td>0.000000</td>\n",
       "      <td>0.000000</td>\n",
       "      <td>0.000000</td>\n",
       "      <td>0.000000</td>\n",
       "      <td>...</td>\n",
       "      <td>0.000000</td>\n",
       "      <td>0.000000</td>\n",
       "      <td>-1.000000</td>\n",
       "      <td>-1.000000</td>\n",
       "      <td>-1.000000</td>\n",
       "      <td>0.000000</td>\n",
       "      <td>-1.000000</td>\n",
       "      <td>0.000000</td>\n",
       "      <td>0.000000</td>\n",
       "      <td>217.000000</td>\n",
       "    </tr>\n",
       "    <tr>\n",
       "      <th>25%</th>\n",
       "      <td>688.000000</td>\n",
       "      <td>8.000000</td>\n",
       "      <td>220.000000</td>\n",
       "      <td>0.487826</td>\n",
       "      <td>1.000000</td>\n",
       "      <td>0.643976</td>\n",
       "      <td>4.000000</td>\n",
       "      <td>1.000000</td>\n",
       "      <td>0.000000</td>\n",
       "      <td>0.000000</td>\n",
       "      <td>...</td>\n",
       "      <td>0.050000</td>\n",
       "      <td>0.600000</td>\n",
       "      <td>-0.322222</td>\n",
       "      <td>-0.666667</td>\n",
       "      <td>-0.125000</td>\n",
       "      <td>0.000000</td>\n",
       "      <td>0.000000</td>\n",
       "      <td>0.166667</td>\n",
       "      <td>0.000000</td>\n",
       "      <td>948.500000</td>\n",
       "    </tr>\n",
       "    <tr>\n",
       "      <th>50%</th>\n",
       "      <td>703.000000</td>\n",
       "      <td>10.000000</td>\n",
       "      <td>345.000000</td>\n",
       "      <td>0.563319</td>\n",
       "      <td>1.000000</td>\n",
       "      <td>0.710909</td>\n",
       "      <td>6.000000</td>\n",
       "      <td>2.000000</td>\n",
       "      <td>1.000000</td>\n",
       "      <td>0.000000</td>\n",
       "      <td>...</td>\n",
       "      <td>0.100000</td>\n",
       "      <td>0.800000</td>\n",
       "      <td>-0.244807</td>\n",
       "      <td>-0.500000</td>\n",
       "      <td>-0.100000</td>\n",
       "      <td>0.125000</td>\n",
       "      <td>0.000000</td>\n",
       "      <td>0.500000</td>\n",
       "      <td>0.000000</td>\n",
       "      <td>1500.000000</td>\n",
       "    </tr>\n",
       "    <tr>\n",
       "      <th>75%</th>\n",
       "      <td>716.000000</td>\n",
       "      <td>11.000000</td>\n",
       "      <td>612.500000</td>\n",
       "      <td>0.636022</td>\n",
       "      <td>1.000000</td>\n",
       "      <td>0.781148</td>\n",
       "      <td>11.000000</td>\n",
       "      <td>4.000000</td>\n",
       "      <td>1.000000</td>\n",
       "      <td>1.000000</td>\n",
       "      <td>...</td>\n",
       "      <td>0.100000</td>\n",
       "      <td>1.000000</td>\n",
       "      <td>-0.177083</td>\n",
       "      <td>-0.291667</td>\n",
       "      <td>-0.050000</td>\n",
       "      <td>0.500000</td>\n",
       "      <td>0.200000</td>\n",
       "      <td>0.500000</td>\n",
       "      <td>0.250000</td>\n",
       "      <td>2700.000000</td>\n",
       "    </tr>\n",
       "    <tr>\n",
       "      <th>max</th>\n",
       "      <td>731.000000</td>\n",
       "      <td>18.000000</td>\n",
       "      <td>4125.000000</td>\n",
       "      <td>1.000000</td>\n",
       "      <td>1.000000</td>\n",
       "      <td>1.000000</td>\n",
       "      <td>82.000000</td>\n",
       "      <td>63.000000</td>\n",
       "      <td>99.000000</td>\n",
       "      <td>75.000000</td>\n",
       "      <td>...</td>\n",
       "      <td>0.800000</td>\n",
       "      <td>1.000000</td>\n",
       "      <td>0.000000</td>\n",
       "      <td>0.000000</td>\n",
       "      <td>0.000000</td>\n",
       "      <td>1.000000</td>\n",
       "      <td>1.000000</td>\n",
       "      <td>0.500000</td>\n",
       "      <td>1.000000</td>\n",
       "      <td>617900.000000</td>\n",
       "    </tr>\n",
       "  </tbody>\n",
       "</table>\n",
       "<p>8 rows × 60 columns</p>\n",
       "</div>"
      ],
      "text/plain": [
       "         timedelta   n_tokens_title   n_tokens_content   n_unique_tokens  \\\n",
       "count  3291.000000      3291.000000        3291.000000       3291.000000   \n",
       "mean    702.988757         9.813431         480.353692          0.563097   \n",
       "std      16.450909         1.933974         410.708072          0.119128   \n",
       "min     674.000000         4.000000           0.000000          0.000000   \n",
       "25%     688.000000         8.000000         220.000000          0.487826   \n",
       "50%     703.000000        10.000000         345.000000          0.563319   \n",
       "75%     716.000000        11.000000         612.500000          0.636022   \n",
       "max     731.000000        18.000000        4125.000000          1.000000   \n",
       "\n",
       "        n_non_stop_words   n_non_stop_unique_tokens    num_hrefs  \\\n",
       "count        3291.000000                3291.000000  3291.000000   \n",
       "mean            0.991492                   0.706685     9.209663   \n",
       "std             0.091860                   0.121041     8.911407   \n",
       "min             0.000000                   0.000000     0.000000   \n",
       "25%             1.000000                   0.643976     4.000000   \n",
       "50%             1.000000                   0.710909     6.000000   \n",
       "75%             1.000000                   0.781148    11.000000   \n",
       "max             1.000000                   1.000000    82.000000   \n",
       "\n",
       "        num_self_hrefs     num_imgs   num_videos  ...   min_positive_polarity  \\\n",
       "count      3291.000000  3291.000000  3291.000000  ...             3291.000000   \n",
       "mean          3.205105     3.505014     1.392890  ...                0.100833   \n",
       "std           4.781313     6.457216     5.543171  ...                0.075345   \n",
       "min           0.000000     0.000000     0.000000  ...                0.000000   \n",
       "25%           1.000000     0.000000     0.000000  ...                0.050000   \n",
       "50%           2.000000     1.000000     0.000000  ...                0.100000   \n",
       "75%           4.000000     1.000000     1.000000  ...                0.100000   \n",
       "max          63.000000    99.000000    75.000000  ...                0.800000   \n",
       "\n",
       "        max_positive_polarity   avg_negative_polarity   min_negative_polarity  \\\n",
       "count             3291.000000             3291.000000             3291.000000   \n",
       "mean                 0.771471               -0.253439               -0.482573   \n",
       "std                  0.229290                0.128501                0.276866   \n",
       "min                  0.000000               -1.000000               -1.000000   \n",
       "25%                  0.600000               -0.322222               -0.666667   \n",
       "50%                  0.800000               -0.244807               -0.500000   \n",
       "75%                  1.000000               -0.177083               -0.291667   \n",
       "max                  1.000000                0.000000                0.000000   \n",
       "\n",
       "        max_negative_polarity   title_subjectivity   title_sentiment_polarity  \\\n",
       "count             3291.000000          3291.000000                3291.000000   \n",
       "mean                -0.114335             0.283469                   0.097286   \n",
       "std                  0.102396             0.327222                   0.273242   \n",
       "min                 -1.000000             0.000000                  -1.000000   \n",
       "25%                 -0.125000             0.000000                   0.000000   \n",
       "50%                 -0.100000             0.125000                   0.000000   \n",
       "75%                 -0.050000             0.500000                   0.200000   \n",
       "max                  0.000000             1.000000                   1.000000   \n",
       "\n",
       "        abs_title_subjectivity   abs_title_sentiment_polarity         shares  \n",
       "count              3291.000000                    3291.000000    3291.000000  \n",
       "mean                  0.344996                       0.164799    3148.386813  \n",
       "std                   0.186858                       0.238667   12661.913485  \n",
       "min                   0.000000                       0.000000     217.000000  \n",
       "25%                   0.166667                       0.000000     948.500000  \n",
       "50%                   0.500000                       0.000000    1500.000000  \n",
       "75%                   0.500000                       0.250000    2700.000000  \n",
       "max                   0.500000                       1.000000  617900.000000  \n",
       "\n",
       "[8 rows x 60 columns]"
      ]
     },
     "execution_count": 84,
     "metadata": {},
     "output_type": "execute_result"
    }
   ],
   "source": [
    "df.describe()"
   ]
  },
  {
   "cell_type": "markdown",
   "id": "qualified-stability",
   "metadata": {},
   "source": [
    "# 4. Prepare Data"
   ]
  },
  {
   "cell_type": "markdown",
   "id": "advanced-scroll",
   "metadata": {},
   "source": [
    "Create a copy of df and save it into a variable called df_cleaned"
   ]
  },
  {
   "cell_type": "code",
   "execution_count": 85,
   "id": "modern-particle",
   "metadata": {},
   "outputs": [],
   "source": [
    "df_cleaned = df.copy()"
   ]
  },
  {
   "cell_type": "markdown",
   "id": "dense-hypothetical",
   "metadata": {},
   "source": [
    "Drop the column url"
   ]
  },
  {
   "cell_type": "code",
   "execution_count": 86,
   "id": "combined-poison",
   "metadata": {},
   "outputs": [],
   "source": [
    "df_cleaned.drop('url', axis=1, inplace=True)"
   ]
  },
  {
   "cell_type": "markdown",
   "id": "lucky-parts",
   "metadata": {},
   "source": [
    " Remove leading and trailing space from the column names"
   ]
  },
  {
   "cell_type": "code",
   "execution_count": 87,
   "id": "floating-iraqi",
   "metadata": {},
   "outputs": [],
   "source": [
    "df_cleaned.columns = df_cleaned.columns.str.strip()"
   ]
  },
  {
   "cell_type": "markdown",
   "id": "colored-camcorder",
   "metadata": {},
   "source": [
    "Extract the column shares and save it into variable calletarget = df_cleaned.pop('shares')d target"
   ]
  },
  {
   "cell_type": "code",
   "execution_count": 88,
   "id": "animal-spiritual",
   "metadata": {},
   "outputs": [],
   "source": [
    "target = df_cleaned.pop('shares')"
   ]
  },
  {
   "cell_type": "code",
   "execution_count": 89,
   "id": "continued-thread",
   "metadata": {},
   "outputs": [],
   "source": [
    "from sklearn.preprocessing import StandardScaler"
   ]
  },
  {
   "cell_type": "code",
   "execution_count": 90,
   "id": "fixed-parker",
   "metadata": {},
   "outputs": [],
   "source": [
    "scaler = StandardScaler()"
   ]
  },
  {
   "cell_type": "code",
   "execution_count": 91,
   "id": "committed-undergraduate",
   "metadata": {},
   "outputs": [],
   "source": [
    "df_cleaned = scaler.fit_transform(df_cleaned)"
   ]
  },
  {
   "cell_type": "code",
   "execution_count": 92,
   "id": "pharmaceutical-lawsuit",
   "metadata": {},
   "outputs": [],
   "source": [
    "from joblib import dump"
   ]
  },
  {
   "cell_type": "code",
   "execution_count": 93,
   "id": "double-creature",
   "metadata": {},
   "outputs": [
    {
     "data": {
      "text/plain": [
       "['../models/scaler.joblib']"
      ]
     },
     "execution_count": 93,
     "metadata": {},
     "output_type": "execute_result"
    }
   ],
   "source": [
    "dump(scaler, '../models/scaler.joblib')"
   ]
  },
  {
   "cell_type": "markdown",
   "id": "seasonal-train",
   "metadata": {},
   "source": [
    "Import train_test_split from sklearn.model_selection"
   ]
  },
  {
   "cell_type": "code",
   "execution_count": 94,
   "id": "finished-flavor",
   "metadata": {},
   "outputs": [],
   "source": [
    "from sklearn.model_selection import train_test_split"
   ]
  },
  {
   "cell_type": "markdown",
   "id": "invisible-cooling",
   "metadata": {},
   "source": [
    "Split randomly the dataset with random_state=8 into 2 different sets: data (80%) and test (20%)"
   ]
  },
  {
   "cell_type": "code",
   "execution_count": 95,
   "id": "electoral-gregory",
   "metadata": {},
   "outputs": [],
   "source": [
    "X_data, X_test, y_data, y_test = train_test_split (df_cleaned, target, test_size=0.2, random_state=8)"
   ]
  },
  {
   "cell_type": "markdown",
   "id": "second-european",
   "metadata": {},
   "source": [
    "Split the remaining data (80%) randomly with random_state=8 into 2 different sets: training (80%) and validation (20%)"
   ]
  },
  {
   "cell_type": "code",
   "execution_count": 96,
   "id": "matched-triumph",
   "metadata": {},
   "outputs": [],
   "source": [
    "X_train, X_val, y_train, y_val = train_test_split(X_data, y_data, test_size=0.2, random_state=8)"
   ]
  },
  {
   "cell_type": "markdown",
   "id": "coordinated-appliance",
   "metadata": {},
   "source": [
    "Save the different sets in the folder data/processed"
   ]
  },
  {
   "cell_type": "code",
   "execution_count": 97,
   "id": "skilled-bailey",
   "metadata": {},
   "outputs": [],
   "source": [
    "np.save('../data/processed/X_train', X_train)\n",
    "np.save('../data/processed/X_val',   X_val)\n",
    "np.save('../data/processed/X_test',  X_test)\n",
    "np.save('../data/processed/y_train', y_train)\n",
    "np.save('../data/processed/y_val',   y_val)\n",
    "np.save('../data/processed/y_test',  y_test)"
   ]
  },
  {
   "cell_type": "markdown",
   "id": "closed-garage",
   "metadata": {},
   "source": [
    "# 5. Get Baseline Model"
   ]
  },
  {
   "cell_type": "markdown",
   "id": "linear-illustration",
   "metadata": {},
   "source": [
    "Calculate the average of the target variable for the training set and save it into a variable called y_mean"
   ]
  },
  {
   "cell_type": "code",
   "execution_count": 98,
   "id": "broadband-trinidad",
   "metadata": {},
   "outputs": [],
   "source": [
    "y_mean = y_train.mean()"
   ]
  },
  {
   "cell_type": "markdown",
   "id": "ranging-vegetarian",
   "metadata": {},
   "source": [
    "Create a numpy array called y_base of dimensions (len(y_train), 1) filled with this value"
   ]
  },
  {
   "cell_type": "code",
   "execution_count": 99,
   "id": "rolled-piano",
   "metadata": {},
   "outputs": [],
   "source": [
    "y_base = np.full((len(y_train), 1), y_mean)"
   ]
  },
  {
   "cell_type": "markdown",
   "id": "precious-envelope",
   "metadata": {},
   "source": [
    "Import the MSE and MAE metrics from sklearn"
   ]
  },
  {
   "cell_type": "code",
   "execution_count": 100,
   "id": "acoustic-anchor",
   "metadata": {},
   "outputs": [],
   "source": [
    "from sklearn.metrics import mean_squared_error as mse\n",
    "from sklearn.metrics import mean_absolute_error as mae"
   ]
  },
  {
   "cell_type": "markdown",
   "id": "sunset-berlin",
   "metadata": {},
   "source": [
    "Display the RMSE and MAE scores of this baseline model"
   ]
  },
  {
   "cell_type": "code",
   "execution_count": 101,
   "id": "hungry-worcester",
   "metadata": {},
   "outputs": [
    {
     "name": "stdout",
     "output_type": "stream",
     "text": [
      "14455.202628642608\n",
      "2748.776025411728\n"
     ]
    }
   ],
   "source": [
    "print(mse(y_train, y_base, squared=False))\n",
    "print(mae(y_train, y_base))"
   ]
  },
  {
   "cell_type": "markdown",
   "id": "narrow-motion",
   "metadata": {},
   "source": [
    "# 6. Train ElasticNet model"
   ]
  },
  {
   "cell_type": "markdown",
   "id": "greatest-princeton",
   "metadata": {},
   "source": [
    "Import the ElasticNet module from sklearn"
   ]
  },
  {
   "cell_type": "code",
   "execution_count": 102,
   "id": "caroline-literacy",
   "metadata": {},
   "outputs": [],
   "source": [
    "from sklearn.linear_model import ElasticNet "
   ]
  },
  {
   "cell_type": "markdown",
   "id": "distinct-complexity",
   "metadata": {},
   "source": [
    "instantiate the ElasticNet class into a variable called reg"
   ]
  },
  {
   "cell_type": "code",
   "execution_count": 103,
   "id": "rough-closing",
   "metadata": {},
   "outputs": [],
   "source": [
    "reg = ElasticNet()"
   ]
  },
  {
   "cell_type": "markdown",
   "id": "heard-settle",
   "metadata": {},
   "source": [
    "Fit the model with the prepared data"
   ]
  },
  {
   "cell_type": "code",
   "execution_count": 104,
   "id": "variable-interpretation",
   "metadata": {},
   "outputs": [
    {
     "data": {
      "text/plain": [
       "ElasticNet()"
      ]
     },
     "execution_count": 104,
     "metadata": {},
     "output_type": "execute_result"
    }
   ],
   "source": [
    "reg.fit(X_train, y_train)"
   ]
  },
  {
   "cell_type": "markdown",
   "id": "parental-citation",
   "metadata": {},
   "source": [
    "Save the fitted model into the folder models as a file called linearelasticnet_default_reg.joblib"
   ]
  },
  {
   "cell_type": "code",
   "execution_count": 105,
   "id": "contemporary-father",
   "metadata": {},
   "outputs": [
    {
     "data": {
      "text/plain": [
       "['../models/elasticnet_default.joblib']"
      ]
     },
     "execution_count": 105,
     "metadata": {},
     "output_type": "execute_result"
    }
   ],
   "source": [
    "dump(reg,  '../models/elasticnet_default.joblib')"
   ]
  },
  {
   "cell_type": "markdown",
   "id": "mounted-mountain",
   "metadata": {},
   "source": [
    "Save the predictions from this model for the training and validation sets into 2 variables called y_train_preds and y_val_preds"
   ]
  },
  {
   "cell_type": "code",
   "execution_count": 106,
   "id": "brilliant-windows",
   "metadata": {},
   "outputs": [],
   "source": [
    "y_train_preds = reg.predict(X_train)\n",
    "y_val_preds = reg.predict(X_val)"
   ]
  },
  {
   "cell_type": "markdown",
   "id": "interesting-landing",
   "metadata": {},
   "source": [
    "Display the RMSE and MAE scores of this model on the training set"
   ]
  },
  {
   "cell_type": "code",
   "execution_count": 107,
   "id": "embedded-architect",
   "metadata": {},
   "outputs": [
    {
     "name": "stdout",
     "output_type": "stream",
     "text": [
      "14227.22643902199\n",
      "2770.0178361392896\n"
     ]
    }
   ],
   "source": [
    "print(mse(y_train, y_train_preds, squared=False))\n",
    "print(mae(y_train, y_train_preds))"
   ]
  },
  {
   "cell_type": "markdown",
   "id": "dependent-abraham",
   "metadata": {},
   "source": [
    "Display the RMSE and MAE scores of this model on the validation set"
   ]
  },
  {
   "cell_type": "code",
   "execution_count": 108,
   "id": "prescribed-therapy",
   "metadata": {},
   "outputs": [
    {
     "name": "stdout",
     "output_type": "stream",
     "text": [
      "4187.350172079278\n",
      "2425.5074247346956\n"
     ]
    }
   ],
   "source": [
    "print(mse(y_val, y_val_preds, squared=False))\n",
    "print(mae(y_val, y_val_preds))"
   ]
  }
 ],
 "metadata": {
  "kernelspec": {
   "display_name": "Python 3",
   "language": "python",
   "name": "python3"
  },
  "language_info": {
   "codemirror_mode": {
    "name": "ipython",
    "version": 3
   },
   "file_extension": ".py",
   "mimetype": "text/x-python",
   "name": "python",
   "nbconvert_exporter": "python",
   "pygments_lexer": "ipython3",
   "version": "3.8.7"
  }
 },
 "nbformat": 4,
 "nbformat_minor": 5
}

{
 "cells": [
  {
   "cell_type": "markdown",
   "id": "cooperative-trout",
   "metadata": {},
   "source": [
    "# 2. Prepare Data"
   ]
  },
  {
   "cell_type": "code",
   "execution_count": 4,
   "id": "removed-windsor",
   "metadata": {},
   "outputs": [],
   "source": [
    "import pandas as pd\n",
    "import numpy as np"
   ]
  },
  {
   "cell_type": "markdown",
   "id": "logical-medicare",
   "metadata": {},
   "source": [
    "Task: Load the saved sets from data/processed using numpy"
   ]
  },
  {
   "cell_type": "code",
   "execution_count": 5,
   "id": "annoying-asthma",
   "metadata": {},
   "outputs": [],
   "source": [
    "X_train = np.load('../data/processed/X_train.npy')\n",
    "X_val   = np.load('../data/processed/X_val.npy'  )\n",
    "X_test  = np.load('../data/processed/X_test.npy' )\n",
    "y_train = np.load('../data/processed/y_train.npy')\n",
    "y_val   = np.load('../data/processed/y_val.npy'  )\n",
    "y_test  = np.load('../data/processed/y_test.npy' )"
   ]
  },
  {
   "cell_type": "markdown",
   "id": "southwest-oxide",
   "metadata": {},
   "source": [
    "Display the dimensions of X_train"
   ]
  },
  {
   "cell_type": "code",
   "execution_count": 6,
   "id": "psychological-solomon",
   "metadata": {},
   "outputs": [
    {
     "data": {
      "text/plain": [
       "(2105, 59)"
      ]
     },
     "execution_count": 6,
     "metadata": {},
     "output_type": "execute_result"
    }
   ],
   "source": [
    "X_train.shape"
   ]
  },
  {
   "cell_type": "markdown",
   "id": "seventh-trash",
   "metadata": {},
   "source": [
    "Import PolynomialFeatures from sklearn.preprocessing"
   ]
  },
  {
   "cell_type": "code",
   "execution_count": 7,
   "id": "dependent-forge",
   "metadata": {},
   "outputs": [],
   "source": [
    "from sklearn.preprocessing import PolynomialFeatures"
   ]
  },
  {
   "cell_type": "markdown",
   "id": "young-serve",
   "metadata": {},
   "source": [
    "Instantiate a PolynomialFeatures with degree 2"
   ]
  },
  {
   "cell_type": "code",
   "execution_count": 8,
   "id": "rotary-river",
   "metadata": {},
   "outputs": [],
   "source": [
    "poly = PolynomialFeatures(2)"
   ]
  },
  {
   "cell_type": "markdown",
   "id": "accepted-forth",
   "metadata": {},
   "source": [
    "Fit the PolynomialFeatures and perform transformation on X_train"
   ]
  },
  {
   "cell_type": "code",
   "execution_count": 9,
   "id": "protected-montreal",
   "metadata": {},
   "outputs": [],
   "source": [
    "X_train = poly.fit_transform(X_train)"
   ]
  },
  {
   "cell_type": "markdown",
   "id": "closing-fountain",
   "metadata": {},
   "source": [
    "Display the dimensions of X_train"
   ]
  },
  {
   "cell_type": "code",
   "execution_count": 10,
   "id": "sublime-contents",
   "metadata": {},
   "outputs": [
    {
     "data": {
      "text/plain": [
       "(2105, 1830)"
      ]
     },
     "execution_count": 10,
     "metadata": {},
     "output_type": "execute_result"
    }
   ],
   "source": [
    "X_train.shape"
   ]
  },
  {
   "cell_type": "markdown",
   "id": "informative-thanks",
   "metadata": {},
   "source": [
    "Perform transformation on X_val and X_test with PolynomialFeatures"
   ]
  },
  {
   "cell_type": "code",
   "execution_count": 11,
   "id": "happy-punishment",
   "metadata": {},
   "outputs": [],
   "source": [
    "X_val = poly.transform(X_val)\n",
    "X_test = poly.transform(X_test)"
   ]
  },
  {
   "cell_type": "markdown",
   "id": "explicit-transcription",
   "metadata": {},
   "source": [
    "# 3. Train Linear Regression model"
   ]
  },
  {
   "cell_type": "markdown",
   "id": "royal-preference",
   "metadata": {},
   "source": [
    "Import the linear regression module from sklearn"
   ]
  },
  {
   "cell_type": "code",
   "execution_count": 12,
   "id": "gross-reply",
   "metadata": {},
   "outputs": [],
   "source": [
    "from sklearn.linear_model import LinearRegression "
   ]
  },
  {
   "cell_type": "markdown",
   "id": "potential-bristol",
   "metadata": {},
   "source": [
    "instantiate the LinearRegression class into a variable called reg"
   ]
  },
  {
   "cell_type": "code",
   "execution_count": 13,
   "id": "disturbed-amber",
   "metadata": {},
   "outputs": [],
   "source": [
    "reg = LinearRegression()"
   ]
  },
  {
   "cell_type": "markdown",
   "id": "unexpected-reduction",
   "metadata": {},
   "source": [
    "Fit the model with the prepared data"
   ]
  },
  {
   "cell_type": "code",
   "execution_count": 14,
   "id": "constant-samuel",
   "metadata": {},
   "outputs": [
    {
     "data": {
      "text/plain": [
       "LinearRegression()"
      ]
     },
     "execution_count": 14,
     "metadata": {},
     "output_type": "execute_result"
    }
   ],
   "source": [
    "reg.fit(X_train, y_train)"
   ]
  },
  {
   "cell_type": "markdown",
   "id": "greek-jumping",
   "metadata": {},
   "source": [
    "Import dump from joblib and save the fitted model into the folder models as a file called linear_poly_2.joblib"
   ]
  },
  {
   "cell_type": "code",
   "execution_count": 15,
   "id": "ongoing-correlation",
   "metadata": {},
   "outputs": [
    {
     "data": {
      "text/plain": [
       "['../models/linear_poly_2.joblib']"
      ]
     },
     "execution_count": 15,
     "metadata": {},
     "output_type": "execute_result"
    }
   ],
   "source": [
    "from joblib import dump  \n",
    "\n",
    "dump(reg,  '../models/linear_poly_2.joblib')"
   ]
  },
  {
   "cell_type": "markdown",
   "id": "compact-apollo",
   "metadata": {},
   "source": [
    "Save the predictions from this model for the training and validation sets into 2 variables called y_train_preds and y_val_preds"
   ]
  },
  {
   "cell_type": "code",
   "execution_count": 16,
   "id": "agreed-sheriff",
   "metadata": {},
   "outputs": [],
   "source": [
    "y_train_preds = reg.predict(X_train)\n",
    "y_val_preds = reg.predict(X_val)"
   ]
  },
  {
   "cell_type": "markdown",
   "id": "likely-transformation",
   "metadata": {},
   "source": [
    "Import the MSE and MAE metrics from sklearn"
   ]
  },
  {
   "cell_type": "code",
   "execution_count": 17,
   "id": "facial-joyce",
   "metadata": {},
   "outputs": [],
   "source": [
    "from sklearn.metrics import mean_squared_error as mse\n",
    "from sklearn.metrics import mean_absolute_error as mae"
   ]
  },
  {
   "cell_type": "markdown",
   "id": "orange-frederick",
   "metadata": {},
   "source": [
    "Display the RMSE and MAE scores of this model on the training set"
   ]
  },
  {
   "cell_type": "code",
   "execution_count": 18,
   "id": "accessible-separate",
   "metadata": {},
   "outputs": [
    {
     "name": "stdout",
     "output_type": "stream",
     "text": [
      "5676.412560740555\n",
      "4481.83007719715\n"
     ]
    }
   ],
   "source": [
    "print(mse(y_train, y_train_preds, squared=False))\n",
    "print(mae(y_train, y_train_preds))"
   ]
  },
  {
   "cell_type": "markdown",
   "id": "instructional-provision",
   "metadata": {},
   "source": [
    "Display the RMSE and MAE scores of this model on the validation set"
   ]
  },
  {
   "cell_type": "code",
   "execution_count": 19,
   "id": "eastern-sacramento",
   "metadata": {},
   "outputs": [
    {
     "name": "stdout",
     "output_type": "stream",
     "text": [
      "839202928070275.1\n",
      "47172090058684.4\n"
     ]
    }
   ],
   "source": [
    "print(mse(y_val, y_val_preds, squared=False))\n",
    "print(mae(y_val, y_val_preds))"
   ]
  },
  {
   "cell_type": "code",
   "execution_count": null,
   "id": "applicable-copper",
   "metadata": {},
   "outputs": [],
   "source": []
  }
 ],
 "metadata": {
  "kernelspec": {
   "display_name": "Python 3",
   "language": "python",
   "name": "python3"
  },
  "language_info": {
   "codemirror_mode": {
    "name": "ipython",
    "version": 3
   },
   "file_extension": ".py",
   "mimetype": "text/x-python",
   "name": "python",
   "nbconvert_exporter": "python",
   "pygments_lexer": "ipython3",
   "version": "3.8.7"
  }
 },
 "nbformat": 4,
 "nbformat_minor": 5
}
